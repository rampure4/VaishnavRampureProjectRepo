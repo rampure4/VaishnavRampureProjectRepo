{
 "cells": [
  {
   "cell_type": "code",
   "execution_count": 1,
   "id": "fe3a094e-c332-4ff8-b2e8-c60e069d6738",
   "metadata": {},
   "outputs": [],
   "source": [
    "import pandas as pd\n",
    "import numpy as np\n",
    "import torch\n",
    "import torch.utils.data as data\n",
    "import torch.optim as optim\n",
    "import torch.nn as nn\n",
    "\n",
    "train_df = pd.read_csv(\"train.csv\").astype(float)\n",
    "test_df = pd.read_csv(\"test.csv\").astype(float)\n",
    "train_data = train_df.values\n",
    "test_data = test_df.values\n",
    "\n",
    "trainX_array = train_data[:, :-1]\n",
    "trainY_array = train_data[:, -1].reshape(-1, 1)\n",
    "\n",
    "testX_np = torch.from_numpy(test_data)\n",
    "testY_np = torch.from_numpy(test_data)\n",
    "\n",
    "trainX_float16 = trainX_array.astype(np.float16)\n",
    "trainX_float64 = trainX_float16.astype(np.float64)\n",
    "abs_diff = torch.abs(torch.from_numpy(trainX_array) - trainX_float64)\n",
    "max_abs_diff = torch.max(abs_diff).item()\n",
    "\n",
    "coef = torch.tensor([\n",
    "    [0.0040],\n",
    "    [0.0040],\n",
    "    [0.0040],\n",
    "    [0.0040],\n",
    "    [0.0040],\n",
    "    [0.0040],  # POS_50_59_CP\n",
    "    [0.0300],  # POS_60_69_CP\n",
    "    [0.0300],\n",
    "    [0.0300],\n",
    "    [0.0300]\n",
    "], dtype=torch.float64)\n",
    "\n",
    "testX_np = testX_np.to(dtype=torch.float64)[:, :-1]\n",
    "\n",
    "first_row = testX_np[0]\n",
    "predicted_deaths = (first_row @ coef).item()\n",
    "\n",
    "predicted_deaths1 = (testX_np @ coef)\n",
    "mean = torch.mean(predicted_deaths1).item()\n",
    "\n",
    "num_features = trainX_array.shape[1]\n",
    "coef = torch.zeros((num_features, 1), dtype=torch.float64)\n",
    "\n",
    "predictions = torch.from_numpy(trainX_array) @ coef\n",
    "mse = torch.mean((predictions - trainY_array)**2)\n",
    "\n",
    "torch.manual_seed(544)\n",
    "ds = torch.utils.data.TensorDataset(torch.from_numpy(trainX_array), torch.from_numpy(trainY_array))\n",
    "dl = torch.utils.data.DataLoader(ds, batch_size=50, shuffle=True)\n",
    "\n",
    "num_features = trainX_array.shape[1]\n",
    "coef = torch.zeros((num_features, 1), dtype=torch.float64, requires_grad=True)\n",
    "loss_fn = nn.MSELoss()\n",
    "\n",
    "optimizer = optim.SGD([coef], lr=0.000002)\n",
    "\n",
    "num_epochs = 500\n",
    "for epoch in range(num_epochs):\n",
    "    total_loss = 0.0\n",
    "    for batch_X, batch_Y in dl:\n",
    "        predictions = batch_X @ coef\n",
    "        loss = loss_fn(predictions, batch_Y)\n",
    "        optimizer.zero_grad()\n",
    "        loss.backward()\n",
    "        optimizer.step()\n",
    "        total_loss += loss.item()\n",
    "    avg_loss = total_loss / len(dl)\n",
    "    if epoch % 100 == 0:\n",
    "        train_predictions = torch.from_numpy(trainX_array) @ coef\n",
    "        train_mse = loss_fn(train_predictions, torch.from_numpy(trainY_array))"
   ]
  },
  {
   "cell_type": "code",
   "execution_count": 2,
   "id": "fb282a38-8a0a-447a-bc05-460d32a2c027",
   "metadata": {},
   "outputs": [
    {
     "data": {
      "text/plain": [
       "83520"
      ]
     },
     "execution_count": 2,
     "metadata": {},
     "output_type": "execute_result"
    }
   ],
   "source": [
    "#Q1: \n",
    "element_size = trainX_array.itemsize  \n",
    "num_elements = trainX_array.size \n",
    "bytes_consumed = element_size * num_elements\n",
    "bytes_consumed"
   ]
  },
  {
   "cell_type": "code",
   "execution_count": 3,
   "id": "b76b3098-109e-4cb7-a4bb-b4278c2557c4",
   "metadata": {},
   "outputs": [
    {
     "data": {
      "text/plain": [
       "0.0"
      ]
     },
     "execution_count": 3,
     "metadata": {},
     "output_type": "execute_result"
    }
   ],
   "source": [
    "#Q2: \n",
    "float(max_abs_diff) "
   ]
  },
  {
   "cell_type": "code",
   "execution_count": 4,
   "id": "e2d6d770-3816-48c1-8724-5f1d95bf0c01",
   "metadata": {},
   "outputs": [
    {
     "data": {
      "text/plain": [
       "False"
      ]
     },
     "execution_count": 4,
     "metadata": {},
     "output_type": "execute_result"
    }
   ],
   "source": [
    "#Q3:\n",
    "torch.cuda.is_available()"
   ]
  },
  {
   "cell_type": "code",
   "execution_count": 5,
   "id": "371c2be1-a3b6-407f-8fd5-6716ac44a4ab",
   "metadata": {},
   "outputs": [
    {
     "data": {
      "text/plain": [
       "9.844"
      ]
     },
     "execution_count": 5,
     "metadata": {},
     "output_type": "execute_result"
    }
   ],
   "source": [
    "#Q4: \n",
    "predicted_deaths"
   ]
  },
  {
   "cell_type": "code",
   "execution_count": 6,
   "id": "0dc13324-91e5-4604-ae10-6ec8ade65cdc",
   "metadata": {},
   "outputs": [
    {
     "data": {
      "text/plain": [
       "12.073632183908048"
      ]
     },
     "execution_count": 6,
     "metadata": {},
     "output_type": "execute_result"
    }
   ],
   "source": [
    "#Q5: \n",
    "mean "
   ]
  },
  {
   "cell_type": "code",
   "execution_count": 7,
   "id": "27487a20-7be2-462f-82a8-38c6fcf3e091",
   "metadata": {},
   "outputs": [
    {
     "data": {
      "text/plain": [
       "19.0"
      ]
     },
     "execution_count": 7,
     "metadata": {},
     "output_type": "execute_result"
    }
   ],
   "source": [
    "#Q6\n",
    "x = torch.tensor(0.0)\n",
    "y = x ** 2 - 8 * x + 19\n",
    "ans = float(y)\n",
    "ans"
   ]
  },
  {
   "cell_type": "code",
   "execution_count": 8,
   "id": "54ebcdf2-ffaf-4ac8-a6a5-86b566e6c1d4",
   "metadata": {},
   "outputs": [
    {
     "data": {
      "text/plain": [
       "3.999999523162842"
      ]
     },
     "execution_count": 8,
     "metadata": {},
     "output_type": "execute_result"
    }
   ],
   "source": [
    "#Q7\n",
    "import torch.optim as optim\n",
    "def function_to_minimize(x):\n",
    "    return x**2 - 8*x + 19\n",
    "x = torch.tensor(0.0, requires_grad=True)\n",
    "optimizer = optim.SGD([x], lr=0.1)  \n",
    "num_iterations = 1000\n",
    "for i in range(num_iterations):\n",
    "    optimizer.zero_grad()\n",
    "    y = function_to_minimize(x)\n",
    "    y.backward()  \n",
    "    optimizer.step() \n",
    "\n",
    "x_minimized = x.item()\n",
    "x_minimized"
   ]
  },
  {
   "cell_type": "code",
   "execution_count": 9,
   "id": "1e2bcb27-b16b-4308-8d37-5fc86c4bfe44",
   "metadata": {},
   "outputs": [
    {
     "data": {
      "text/plain": [
       "197.8007662835249"
      ]
     },
     "execution_count": 9,
     "metadata": {},
     "output_type": "execute_result"
    }
   ],
   "source": [
    "#Q8 \n",
    "mse.item()"
   ]
  },
  {
   "cell_type": "code",
   "execution_count": 10,
   "id": "fc619173-deb2-4a57-9359-cb19ccedaf36",
   "metadata": {},
   "outputs": [
    {
     "data": {
      "text/plain": [
       "26.564613484128618"
      ]
     },
     "execution_count": 10,
     "metadata": {},
     "output_type": "execute_result"
    }
   ],
   "source": [
    "#Q9\n",
    "train_mse.item()"
   ]
  },
  {
   "cell_type": "code",
   "execution_count": 11,
   "id": "7b5d6e8e-dc5d-4715-8367-a153537b4190",
   "metadata": {},
   "outputs": [
    {
     "data": {
      "text/plain": [
       "29.05854692548551"
      ]
     },
     "execution_count": 11,
     "metadata": {},
     "output_type": "execute_result"
    }
   ],
   "source": [
    "#Q10\n",
    "import pandas as pd\n",
    "import torch\n",
    "\n",
    "train_df = pd.read_csv(\"train.csv\").astype(float)\n",
    "test_df = pd.read_csv(\"test.csv\").astype(float)\n",
    "\n",
    "train_data = torch.tensor(train_df.values, dtype=torch.float64)\n",
    "test_data = torch.tensor(test_df.values, dtype=torch.float64)\n",
    "\n",
    "trainX = train_data[:, :-1]\n",
    "trainY = train_data[:, -1].reshape(-1, 1)\n",
    "testX = test_data[:, :-1]\n",
    "testY = test_data[:, -1].reshape(-1, 1)\n",
    "\n",
    "ds = torch.utils.data.TensorDataset(trainX, trainY)\n",
    "\n",
    "test_predictions = testX @ coef \n",
    "\n",
    "test_mse = loss_fn(test_predictions, testY)\n",
    "test_mse.item()\n"
   ]
  },
  {
   "cell_type": "code",
   "execution_count": null,
   "id": "0c3769dc-b77a-43dc-8850-ca14813e526f",
   "metadata": {},
   "outputs": [],
   "source": []
  }
 ],
 "metadata": {
  "kernelspec": {
   "display_name": "Python 3 (ipykernel)",
   "language": "python",
   "name": "python3"
  },
  "language_info": {
   "codemirror_mode": {
    "name": "ipython",
    "version": 3
   },
   "file_extension": ".py",
   "mimetype": "text/x-python",
   "name": "python",
   "nbconvert_exporter": "python",
   "pygments_lexer": "ipython3",
   "version": "3.11.5"
  }
 },
 "nbformat": 4,
 "nbformat_minor": 5
}
