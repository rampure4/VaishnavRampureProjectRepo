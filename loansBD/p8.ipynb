{
 "cells": [
  {
   "cell_type": "code",
   "execution_count": 1,
   "id": "f2dde974-8034-42a4-a68e-f98b2fbddeb2",
   "metadata": {},
   "outputs": [],
   "source": [
    "from google.cloud import bigquery\n",
    "bq = bigquery.Client()"
   ]
  },
  {
   "cell_type": "code",
   "execution_count": 2,
   "id": "e1854ee9-aba3-461e-8ad2-52f89ead7af9",
   "metadata": {},
   "outputs": [],
   "source": [
    "no_cache = bigquery.QueryJobConfig(use_query_cache=False)"
   ]
  },
  {
   "cell_type": "code",
   "execution_count": 3,
   "id": "394c634f-14b0-49f6-97cb-1f7bdc566e37",
   "metadata": {
    "collapsed": true,
    "jupyter": {
     "outputs_hidden": true
    }
   },
   "outputs": [
    {
     "data": {
      "text/plain": [
       "'55025'"
      ]
     },
     "execution_count": 3,
     "metadata": {},
     "output_type": "execute_result"
    }
   ],
   "source": [
    "#q1\n",
    "q1 = bq.query(\n",
    "\"\"\"\n",
    "select geo_id, county_name\n",
    "from bigquery-public-data.geo_us_boundaries.counties\n",
    "where county_name = 'Dane'\n",
    "\"\"\", job_config=no_cache)\n",
    "df = q1.to_dataframe()[\"geo_id\"][0]\n",
    "df"
   ]
  },
  {
   "cell_type": "code",
   "execution_count": 4,
   "id": "f02357e4-e60c-4225-ae34-82e209de60b6",
   "metadata": {},
   "outputs": [
    {
     "data": {
      "text/plain": [
       "{'48': 254, '13': 159, '51': 133, '21': 120, '29': 115}"
      ]
     },
     "execution_count": 4,
     "metadata": {},
     "output_type": "execute_result"
    }
   ],
   "source": [
    "#q2\n",
    "q2 = bq.query(\n",
    "\"\"\"\n",
    "SELECT state_fips_code, COUNT(*) as county_count\n",
    "FROM bigquery-public-data.geo_us_boundaries.counties\n",
    "GROUP BY state_fips_code\n",
    "ORDER BY county_count DESC\n",
    "LIMIT 5\"\"\", job_config=no_cache)\n",
    "df = q2.to_dataframe()\n",
    "dict = df.set_index('state_fips_code')['county_count'].to_dict()\n",
    "dict"
   ]
  },
  {
   "cell_type": "code",
   "execution_count": 5,
   "id": "2fb07417-1e8d-49eb-a381-6bc96690b079",
   "metadata": {},
   "outputs": [
    {
     "data": {
      "text/plain": [
       "{'q1': 5.9604644775390625e-05, 'q2': 5.9604644775390625e-05}"
      ]
     },
     "execution_count": 5,
     "metadata": {},
     "output_type": "execute_result"
    }
   ],
   "source": [
    "#q3\n",
    "total_bytes_billed_q1 = q1.total_bytes_billed\n",
    "total_bytes_billed_q2 = q2.total_bytes_billed\n",
    "\n",
    "cost_per_tb = 6.25 \n",
    "bytes_per_tb = 2 ** 40\n",
    "\n",
    "\n",
    "cost_per_byte = cost_per_tb / bytes_per_tb\n",
    "\n",
    "if total_bytes_billed_q1:\n",
    "    cost_q1 = total_bytes_billed_q1 * cost_per_byte\n",
    "else:\n",
    "    cost_q1 = 0\n",
    "\n",
    "if total_bytes_billed_q2:\n",
    "    cost_q2 = total_bytes_billed_q2 * cost_per_byte\n",
    "else:\n",
    "    cost_q2 = 0\n",
    "\n",
    "cost_dict = {'q1':cost_q1, 'q2': cost_q2}\n",
    "cost_dict"
   ]
  },
  {
   "cell_type": "code",
   "execution_count": 6,
   "id": "51f65ff4-7831-49b3-b168-1d99c8a5f09a",
   "metadata": {},
   "outputs": [
    {
     "data": {
      "text/plain": [
       "['p8']"
      ]
     },
     "execution_count": 6,
     "metadata": {},
     "output_type": "execute_result"
    }
   ],
   "source": [
    "#q4\n",
    "ds = bigquery.Dataset(\"cs-544-398518.p8\")\n",
    "bq.delete_dataset(ds, delete_contents = True, not_found_ok = True)\n",
    "bq.create_dataset(ds, exists_ok=True)\n",
    "config = bigquery.LoadJobConfig(source_format=\"PARQUET\", write_disposition=\"WRITE_TRUNCATE\")\n",
    "url = \"gs://cs544_p8vishmeet1/hdma-wi-2021.parquet\"\n",
    "job = bq.load_table_from_uri(url, \"cs-544-398518.p8.hdma\", job_config=config)\n",
    "[ds.dataset_id for ds in bq.list_datasets(\"cs-544-398518\")]"
   ]
  },
  {
   "cell_type": "code",
   "execution_count": 7,
   "id": "4b36baf7-0d58-477d-8d10-c0eabc5346ca",
   "metadata": {},
   "outputs": [],
   "source": [
    "import time\n",
    "time.sleep(10)"
   ]
  },
  {
   "cell_type": "code",
   "execution_count": 8,
   "id": "12f29203-0675-4d33-a30e-6983a741141c",
   "metadata": {},
   "outputs": [
    {
     "data": {
      "text/plain": [
       "{'Milwaukee': 46570,\n",
       " 'Dane': 38557,\n",
       " 'Waukesha': 34159,\n",
       " 'Brown': 15615,\n",
       " 'Racine': 13007,\n",
       " 'Outagamie': 11523,\n",
       " 'Kenosha': 10744,\n",
       " 'Washington': 10726,\n",
       " 'Rock': 9834,\n",
       " 'Winnebago': 9310}"
      ]
     },
     "execution_count": 8,
     "metadata": {},
     "output_type": "execute_result"
    }
   ],
   "source": [
    "#q5\n",
    "q = bq.query(\"\"\"\n",
    "SELECT c.county_name, COUNT(*) as loan_applications_count\n",
    "FROM cs-544-398518.p8.hdma as h\n",
    "INNER JOIN bigquery-public-data.geo_us_boundaries.counties as c ON h.county_code = c.county_fips_code\n",
    "GROUP BY c.county_name\n",
    "ORDER BY loan_applications_count DESC\n",
    "LIMIT 10\n",
    "\"\"\")\n",
    "df = q.to_dataframe()\n",
    "\n",
    "result_dict = df.set_index('county_name')['loan_applications_count'].to_dict()\n",
    "result_dict"
   ]
  },
  {
   "cell_type": "code",
   "execution_count": 9,
   "id": "f4043abe-afe2-4262-9ef7-bc18ebfc5d51",
   "metadata": {
    "scrolled": true
   },
   "outputs": [
    {
     "data": {
      "text/plain": [
       "1"
      ]
     },
     "execution_count": 9,
     "metadata": {},
     "output_type": "execute_result"
    }
   ],
   "source": [
    "#q6\n",
    "url = \"https://docs.google.com/spreadsheets/d/11UeIBqQylAyNUBsIO54p6WiYJWHayQMfHDbUWq1jGco/\"\n",
    "\n",
    "external_config = bigquery.ExternalConfig(\"GOOGLE_SHEETS\")\n",
    "external_config.source_uris = [url]\n",
    "external_config.options.skip_leading_rows = 1\n",
    "external_config.autodetect = True\n",
    "\n",
    "table = bigquery.Table(ds.table(\"applications\"))\n",
    "table.external_data_configuration = external_config\n",
    "\n",
    "table = bq.create_table(table, exists_ok=True)\n",
    "\n",
    "q = bq.query(\"\"\"\n",
    "SELECT COUNT(*) as COUNT \n",
    "FROM cs-544-398518.p8.applications\n",
    "WHERE income = 110000\n",
    "\"\"\")\n",
    "q.to_dataframe()[\"COUNT\"][0]"
   ]
  },
  {
   "cell_type": "code",
   "execution_count": 10,
   "id": "e81b4c4e-2b01-4668-b61f-05bf1aef202f",
   "metadata": {},
   "outputs": [
    {
     "data": {
      "text/plain": [
       "{'Jefferson': 1,\n",
       " 'Door': 7,\n",
       " 'Dane': 18,\n",
       " 'Columbia': 1,\n",
       " 'Sheboygan': 2,\n",
       " 'Kewaunee': 1,\n",
       " 'Outagamie': 1,\n",
       " 'Green Lake': 1,\n",
       " 'Marinette': 2,\n",
       " 'Brown': 2,\n",
       " 'Barron': 2,\n",
       " 'Bayfield': 2,\n",
       " 'Walworth': 2,\n",
       " 'Sauk': 1,\n",
       " 'Oneida': 1,\n",
       " 'Monroe': 1}"
      ]
     },
     "execution_count": 10,
     "metadata": {},
     "output_type": "execute_result"
    }
   ],
   "source": [
    "#q7\n",
    "q = bq.query(\"\"\"\n",
    "SELECT c.county_name, COUNT(*) as count\n",
    "FROM `cs-544-398518.p8.applications` as a\n",
    "JOIN `bigquery-public-data.geo_us_boundaries.counties` as c\n",
    "ON ST_CONTAINS(c.county_geom, ST_GEOGPOINT(a.longitude, a.latitude)) \n",
    "WHERE c.state_fips_code = '55'\n",
    "GROUP BY c.county_name\n",
    "\"\"\").to_dataframe()\n",
    "county_applications_dict = q.set_index('county_name')['count'].to_dict()\n",
    "county_applications_dict"
   ]
  },
  {
   "cell_type": "code",
   "execution_count": 11,
   "id": "0023f9b1-31f1-45e5-98eb-5cd8fcf9f897",
   "metadata": {},
   "outputs": [
    {
     "data": {
      "text/plain": [
       "0.29165346922392144"
      ]
     },
     "execution_count": 11,
     "metadata": {},
     "output_type": "execute_result"
    }
   ],
   "source": [
    "#q8\n",
    "import time\n",
    "bq.query(\"\"\"\n",
    "CREATE OR REPLACE MODEL `cs-544-398518.p8.loan_prediction_model`\n",
    "OPTIONS(model_type='LINEAR_REG', input_label_cols=['loan_amount']) \n",
    "\n",
    "AS\n",
    "\n",
    "SELECT loan_amount, income, loan_term\n",
    "FROM `cs-544-398518.p8.hdma`\n",
    "\"\"\")\n",
    "while True:\n",
    "    if len(list(bq.list_models(\"cs-544-398518.p8\"))) > 0:  # Hint: use bq.list_models()\n",
    "        break\n",
    "    time.sleep(5)\n",
    "evaluate_model_sql = \"\"\"\n",
    "SELECT*\n",
    "FROM ML.EVALUATE(MODEL `cs-544-398518.p8.loan_prediction_model`,\n",
    "    (SELECT loan_amount, income, loan_term\n",
    "    FROM cs-544-398518.p8.hdma\n",
    "    ))\n",
    "\"\"\"\n",
    "\n",
    "result = bq.query(evaluate_model_sql).to_dataframe()[\"r2_score\"][0]\n",
    "result"
   ]
  },
  {
   "cell_type": "code",
   "execution_count": 12,
   "id": "62a3a6ae-661e-4ab4-a8f5-0efef923b426",
   "metadata": {},
   "outputs": [
    {
     "data": {
      "text/plain": [
       "0.804631025398983"
      ]
     },
     "execution_count": 12,
     "metadata": {},
     "output_type": "execute_result"
    }
   ],
   "source": [
    "#q9\n",
    "ds = bq.query(\"\"\"\n",
    "SELECT*\n",
    "FROM\n",
    "  ML.WEIGHTS(MODEL `cs-544-398518.p8.loan_prediction_model`)\n",
    "\"\"\")\n",
    "ds.to_dataframe()[\"weight\"][0]"
   ]
  },
  {
   "cell_type": "code",
   "execution_count": 13,
   "id": "8dd408c2-74a2-4e99-ab21-8a6f4c140eef",
   "metadata": {},
   "outputs": [
    {
     "data": {
      "text/plain": [
       "0.6708860759493671"
      ]
     },
     "execution_count": 13,
     "metadata": {},
     "output_type": "execute_result"
    }
   ],
   "source": [
    "#q10\n",
    "#q10\n",
    "prediction_results = bq.query(\"\"\"\n",
    "WITH applications_with_id AS (\n",
    "    SELECT *,ROW_NUMBER() OVER() AS row_id\n",
    "    FROM `cs-544-398518.p8.applications`\n",
    ")\n",
    "SELECT a.loan_amount AS actual_loan_amount, predictions.predicted_loan_amount\n",
    "FROM  ML.PREDICT(MODEL `cs-544-398518.p8.loan_prediction_model`, (SELECT income, 360 AS loan_term, row_id FROM applications_with_id)) AS predictions\n",
    "JOIN applications_with_id AS a\n",
    "ON predictions.row_id = a.row_id\n",
    "\"\"\").to_dataframe()\n",
    "\n",
    "\n",
    "greater_sum = (prediction_results['actual_loan_amount'] > prediction_results['predicted_loan_amount']).sum()\n",
    "total_applications = len(prediction_results)\n",
    "\n",
    "ratio = greater_sum / total_applications\n",
    "\n",
    "ratio\n"
   ]
  },
  {
   "cell_type": "code",
   "execution_count": null,
   "id": "d94c46d5-0720-4b29-90a0-4d705120ad74",
   "metadata": {},
   "outputs": [],
   "source": []
  },
  {
   "cell_type": "code",
   "execution_count": null,
   "id": "04d32a6a-a281-4170-aa7c-9cbca4749fde",
   "metadata": {},
   "outputs": [],
   "source": []
  }
 ],
 "metadata": {
  "kernelspec": {
   "display_name": "Python 3 (ipykernel)",
   "language": "python",
   "name": "python3"
  },
  "language_info": {
   "codemirror_mode": {
    "name": "ipython",
    "version": 3
   },
   "file_extension": ".py",
   "mimetype": "text/x-python",
   "name": "python",
   "nbconvert_exporter": "python",
   "pygments_lexer": "ipython3",
   "version": "3.10.12"
  }
 },
 "nbformat": 4,
 "nbformat_minor": 5
}
