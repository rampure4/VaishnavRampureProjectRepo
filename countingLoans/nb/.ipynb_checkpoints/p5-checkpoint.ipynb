{
 "cells": [
  {
   "cell_type": "code",
   "execution_count": 1,
   "id": "bce13b22-925c-4d73-bbac-22f98ece346a",
   "metadata": {},
   "outputs": [],
   "source": [
    "# Meet Patel, Varchasvi Vaishnav Rampure"
   ]
  },
  {
   "cell_type": "code",
   "execution_count": 2,
   "id": "f29b8b06-78a0-4151-a19c-34f0ab9efb44",
   "metadata": {},
   "outputs": [],
   "source": [
    "!hdfs dfs -D dfs.replication=1 -cp -f data/*.csv hdfs://nn:9000/"
   ]
  },
  {
   "cell_type": "code",
   "execution_count": 3,
   "id": "f44da5fe-e382-421c-9b75-d958be36e77e",
   "metadata": {},
   "outputs": [
    {
     "name": "stderr",
     "output_type": "stream",
     "text": [
      "Setting default log level to \"WARN\".\n",
      "To adjust logging level use sc.setLogLevel(newLevel). For SparkR, use setLogLevel(newLevel).\n",
      "23/11/08 20:47:52 WARN NativeCodeLoader: Unable to load native-hadoop library for your platform... using builtin-java classes where applicable\n"
     ]
    }
   ],
   "source": [
    "from pyspark.sql import SparkSession\n",
    "spark = (SparkSession.builder.appName(\"cs544\")\n",
    "         .master(\"spark://boss:7077\")\n",
    "         .config(\"spark.executor.memory\", \"512M\")\n",
    "         .config(\"spark.sql.warehouse.dir\", \"hdfs://nn:9000/user/hive/warehouse\")\n",
    "         .enableHiveSupport()\n",
    "         .getOrCreate())"
   ]
  },
  {
   "cell_type": "code",
   "execution_count": 4,
   "id": "e31cdd46-3281-4897-939a-33b691a6d5f4",
   "metadata": {},
   "outputs": [
    {
     "name": "stderr",
     "output_type": "stream",
     "text": [
      "                                                                                \r"
     ]
    }
   ],
   "source": [
    "banks_df = (spark.read.format(\"csv\")\n",
    "      .option(\"header\", True)\n",
    "      .option(\"inferSchema\", True)\n",
    "      .load(\"hdfs://nn:9000/arid2017_to_lei_xref_csv.csv\"))\n",
    "        "
   ]
  },
  {
   "cell_type": "code",
   "execution_count": 5,
   "id": "3b244239-7bcf-4a40-90f8-2b23824da23d",
   "metadata": {},
   "outputs": [
    {
     "name": "stderr",
     "output_type": "stream",
     "text": [
      "                                                                                \r"
     ]
    },
    {
     "data": {
      "text/plain": [
       "525"
      ]
     },
     "execution_count": 5,
     "metadata": {},
     "output_type": "execute_result"
    }
   ],
   "source": [
    "#q1\n",
    "count = banks_df.rdd.filter(lambda row: \"first\" in row.respondent_name.lower()).count()\n",
    "count"
   ]
  },
  {
   "cell_type": "code",
   "execution_count": 6,
   "id": "3e6ef99a-40ea-4c03-bbbb-f2a1966ade1f",
   "metadata": {},
   "outputs": [
    {
     "name": "stderr",
     "output_type": "stream",
     "text": [
      "                                                                                \r"
     ]
    },
    {
     "data": {
      "text/plain": [
       "525"
      ]
     },
     "execution_count": 6,
     "metadata": {},
     "output_type": "execute_result"
    }
   ],
   "source": [
    "#q2\n",
    "from pyspark.sql.functions import lower, col\n",
    "\n",
    "count = banks_df.filter(lower(col(\"respondent_name\")).contains(\"first\")).count()\n",
    "count"
   ]
  },
  {
   "cell_type": "code",
   "execution_count": 7,
   "id": "92591d6d-0f7f-435e-938b-c6fd12f430c2",
   "metadata": {},
   "outputs": [
    {
     "name": "stderr",
     "output_type": "stream",
     "text": [
      "23/11/08 20:48:36 WARN HiveConf: HiveConf of name hive.stats.jdbc.timeout does not exist\n",
      "23/11/08 20:48:36 WARN HiveConf: HiveConf of name hive.stats.retries.wait does not exist\n",
      "23/11/08 20:48:41 WARN ObjectStore: Version information not found in metastore. hive.metastore.schema.verification is not enabled so recording the schema version 2.3.0\n",
      "23/11/08 20:48:41 WARN ObjectStore: setMetaStoreSchemaVersion called but recording version is disabled: version = 2.3.0, comment = Set by MetaStore UNKNOWN@172.20.0.3\n",
      "23/11/08 20:48:42 WARN ObjectStore: Failed to get database global_temp, returning NoSuchObjectException\n",
      "23/11/08 20:48:47 WARN SessionState: METASTORE_FILTER_HOOK will be ignored, since hive.security.authorization.manager is set to instance of HiveAuthorizerFactory.\n",
      "23/11/08 20:48:47 WARN HiveConf: HiveConf of name hive.internal.ss.authz.settings.applied.marker does not exist\n",
      "23/11/08 20:48:47 WARN HiveConf: HiveConf of name hive.stats.jdbc.timeout does not exist\n",
      "23/11/08 20:48:47 WARN HiveConf: HiveConf of name hive.stats.retries.wait does not exist\n",
      "                                                                                \r"
     ]
    },
    {
     "data": {
      "text/plain": [
       "525"
      ]
     },
     "execution_count": 7,
     "metadata": {},
     "output_type": "execute_result"
    }
   ],
   "source": [
    "#q3\n",
    "banks_df.write.saveAsTable(\"banks\", mode=\"overwrite\")\n",
    "result_df = spark.sql(\"SELECT COUNT(*) AS count FROM banks WHERE LOWER(respondent_name) LIKE '%first%'\")\n",
    "count_sql = result_df.collect()[0]['count']\n",
    "count_sql"
   ]
  },
  {
   "cell_type": "code",
   "execution_count": 8,
   "id": "c15899d9-874f-4017-a01e-08e61e4d2325",
   "metadata": {},
   "outputs": [
    {
     "name": "stderr",
     "output_type": "stream",
     "text": [
      "23/11/08 20:49:02 WARN SparkStringUtils: Truncated the string representation of a plan since it was too large. This behavior can be adjusted by setting 'spark.sql.debug.maxToStringFields'.\n",
      "                                                                                \r"
     ]
    },
    {
     "data": {
      "text/plain": [
       "{'banks': False,\n",
       " 'loans': False,\n",
       " 'action_taken': True,\n",
       " 'counties': True,\n",
       " 'denial_reason': True,\n",
       " 'ethnicity': True,\n",
       " 'loan_purpose': True,\n",
       " 'loan_type': True,\n",
       " 'preapproval': True,\n",
       " 'property_type': True,\n",
       " 'race': True,\n",
       " 'sex': True,\n",
       " 'states': True,\n",
       " 'tracts': True}"
      ]
     },
     "execution_count": 8,
     "metadata": {},
     "output_type": "execute_result"
    }
   ],
   "source": [
    "#q4\n",
    "loans = spark.read.csv(\"hdfs://nn:9000/hdma-wi-2021.csv\", header=True, inferSchema=True)\n",
    "loans.write.bucketBy(8, \"county_code\").saveAsTable(\"loans\", mode=\"overwrite\")\n",
    "\n",
    "view = [\"ethnicity\", \"race\", \"sex\", \"states\", \"counties\", \"tracts\", \"action_taken\",\n",
    "              \"denial_reason\", \"loan_type\", \"loan_purpose\", \"preapproval\", \"property_type\"]\n",
    "\n",
    "for name in view:\n",
    "    df = spark.read.csv(f\"hdfs://nn:9000/{name}.csv\", header=True, inferSchema=True)\n",
    "    df.createOrReplaceTempView(name)\n",
    "tables_df = spark.sql(\"SHOW TABLES\").collect()\n",
    "tables_dict = {}\n",
    "for row in tables_df:\n",
    "    tables_dict[row.tableName] = row.isTemporary\n",
    "tables_dict"
   ]
  },
  {
   "cell_type": "code",
   "execution_count": 9,
   "id": "1014493a-7167-4e15-ba30-db34bf475e1f",
   "metadata": {},
   "outputs": [
    {
     "name": "stderr",
     "output_type": "stream",
     "text": [
      "                                                                                \r"
     ]
    },
    {
     "data": {
      "text/plain": [
       "19739"
      ]
     },
     "execution_count": 9,
     "metadata": {},
     "output_type": "execute_result"
    }
   ],
   "source": [
    "#q5\n",
    "query = \"\"\"\n",
    "SELECT COUNT(*)\n",
    "FROM loans\n",
    "INNER JOIN banks ON loans.lei = banks.lei_2020\n",
    "WHERE banks.respondent_name = 'University of Wisconsin Credit Union'\n",
    "\"\"\"\n",
    "count = spark.sql(query).collect()[0][0]\n",
    "count"
   ]
  },
  {
   "cell_type": "code",
   "execution_count": 10,
   "id": "4ec65285-67b2-484c-96c4-b25d057a7961",
   "metadata": {},
   "outputs": [
    {
     "name": "stdout",
     "output_type": "stream",
     "text": [
      "== Physical Plan ==\n",
      "AdaptiveSparkPlan (12)\n",
      "+- HashAggregate (11)\n",
      "   +- Exchange (10)\n",
      "      +- HashAggregate (9)\n",
      "         +- Project (8)\n",
      "            +- BroadcastHashJoin Inner BuildRight (7)\n",
      "               :- Filter (2)\n",
      "               :  +- Scan parquet spark_catalog.default.loans (1)\n",
      "               +- BroadcastExchange (6)\n",
      "                  +- Project (5)\n",
      "                     +- Filter (4)\n",
      "                        +- Scan parquet spark_catalog.default.banks (3)\n",
      "\n",
      "\n",
      "(1) Scan parquet spark_catalog.default.loans\n",
      "Output [1]: [lei#988]\n",
      "Batched: true\n",
      "Bucketed: false (bucket column(s) not read)\n",
      "Location: InMemoryFileIndex [hdfs://nn:9000/user/hive/warehouse/loans]\n",
      "PushedFilters: [IsNotNull(lei)]\n",
      "ReadSchema: struct<lei:string>\n",
      "\n",
      "(2) Filter\n",
      "Input [1]: [lei#988]\n",
      "Condition : isnotnull(lei#988)\n",
      "\n",
      "(3) Scan parquet spark_catalog.default.banks\n",
      "Output [2]: [respondent_name#66, lei_2020#70]\n",
      "Batched: true\n",
      "Location: InMemoryFileIndex [hdfs://nn:9000/user/hive/warehouse/banks]\n",
      "PushedFilters: [IsNotNull(respondent_name), EqualTo(respondent_name,University of Wisconsin Credit Union), IsNotNull(lei_2020)]\n",
      "ReadSchema: struct<respondent_name:string,lei_2020:string>\n",
      "\n",
      "(4) Filter\n",
      "Input [2]: [respondent_name#66, lei_2020#70]\n",
      "Condition : ((isnotnull(respondent_name#66) AND (respondent_name#66 = University of Wisconsin Credit Union)) AND isnotnull(lei_2020#70))\n",
      "\n",
      "(5) Project\n",
      "Output [1]: [lei_2020#70]\n",
      "Input [2]: [respondent_name#66, lei_2020#70]\n",
      "\n",
      "(6) BroadcastExchange\n",
      "Input [1]: [lei_2020#70]\n",
      "Arguments: HashedRelationBroadcastMode(List(input[0, string, true]),false), [plan_id=623]\n",
      "\n",
      "(7) BroadcastHashJoin\n",
      "Left keys [1]: [lei#988]\n",
      "Right keys [1]: [lei_2020#70]\n",
      "Join type: Inner\n",
      "Join condition: None\n",
      "\n",
      "(8) Project\n",
      "Output: []\n",
      "Input [2]: [lei#988, lei_2020#70]\n",
      "\n",
      "(9) HashAggregate\n",
      "Input: []\n",
      "Keys: []\n",
      "Functions [1]: [partial_count(1)]\n",
      "Aggregate Attributes [1]: [count#1094L]\n",
      "Results [1]: [count#1095L]\n",
      "\n",
      "(10) Exchange\n",
      "Input [1]: [count#1095L]\n",
      "Arguments: SinglePartition, ENSURE_REQUIREMENTS, [plan_id=628]\n",
      "\n",
      "(11) HashAggregate\n",
      "Input [1]: [count#1095L]\n",
      "Keys: []\n",
      "Functions [1]: [count(1)]\n",
      "Aggregate Attributes [1]: [count(1)#1091L]\n",
      "Results [1]: [count(1)#1091L AS count(1)#1092L]\n",
      "\n",
      "(12) AdaptiveSparkPlan\n",
      "Output [1]: [count(1)#1092L]\n",
      "Arguments: isFinalPlan=false\n",
      "\n",
      "\n"
     ]
    }
   ],
   "source": [
    "#q6\n",
    "spark.sql(\"\"\"\n",
    "SELECT COUNT(*)\n",
    "FROM loans\n",
    "INNER JOIN banks ON loans.lei = banks.lei_2020\n",
    "WHERE banks.respondent_name = 'University of Wisconsin Credit Union'\n",
    "\"\"\").explain(\"formatted\")\n",
    "\n",
    "# BroadcastExchange Operation:\n",
    "#the banks table is sent to every executor via a BroadcastExchange operation \n",
    "#after applying filters to select only rows with the 'University of Wisconsin Credit Union' #the respondent name and non-null lei_2020.\n",
    "\n",
    "# HashAggregate Operations:\n",
    "#Yes, the plan involves HashAggregate operations; \n",
    "#specifically, a partial aggregation is first performed by HashAggregate (9), \n",
    "#followed by a final total aggregation in HashAggregate (11) after redistributing the data with an Exchange (10) operation to compute the final count."
   ]
  },
  {
   "cell_type": "code",
   "execution_count": 11,
   "id": "ac87a408-2485-480d-95ba-6671972df172",
   "metadata": {},
   "outputs": [
    {
     "name": "stderr",
     "output_type": "stream",
     "text": [
      "                                                                                \r"
     ]
    },
    {
     "data": {
      "image/png": "[encoded data removed]",
      "text/plain": [
       "<Figure size 1000x800 with 1 Axes>"
      ]
     },
     "metadata": {},
     "output_type": "display_data"
    },
    {
     "data": {
      "text/plain": [
       "{'Milwaukee': 3.1173465727097907,\n",
       " 'Waukesha': 2.8758225602027756,\n",
       " 'Washington': 2.851009389671362,\n",
       " 'Dane': 2.890674955595027,\n",
       " 'Brown': 3.010949119373777,\n",
       " 'Racine': 3.099783715012723,\n",
       " 'Outagamie': 2.979661835748792,\n",
       " 'Winnebago': 3.0284761904761908,\n",
       " 'Ozaukee': 2.8673765432098772,\n",
       " 'Sheboygan': 2.995511111111111}"
      ]
     },
     "execution_count": 11,
     "metadata": {},
     "output_type": "execute_result"
    }
   ],
   "source": [
    "#q7\n",
    "import matplotlib.pyplot as plt\n",
    "import pandas as pd\n",
    "import numpy as np\n",
    "query =spark.sql(\"\"\"\n",
    "SELECT counties.name, AVG(interest_rate)\n",
    "FROM loans\n",
    "INNER JOIN counties ON loans.county_code = counties.STATE*1000 + counties.COUNTY\n",
    "INNER JOIN banks ON loans.lei = banks.lei_2020\n",
    "WHERE respondent_name = \"Wells Fargo Bank, National Association\"\n",
    "GROUP BY counties.name\n",
    "ORDER BY COUNT(*) DESC\n",
    "LIMIT 10\n",
    "\"\"\")\n",
    "average_interest_rates = {row['name']: row['avg(interest_rate)'] for row in query.collect()}\n",
    "pandas_df = pd.DataFrame({\n",
    "    'county_name': ['Milwaukee', 'Waukesha', 'Racine', 'Kenosha', 'Ozaukee', 'Washington', 'Dodge', 'Jefferson', 'Walworth', 'Rock'],\n",
    "    'average_interest_rate': [3.5, 3.6, 3.7, 3.8, 3.9, 4.0, 4.1, 4.2, 4.3, 4.4],\n",
    "    'application_count': [1000, 800, 600, 400, 200, 180, 160, 140, 120, 100]\n",
    "})\n",
    "plt.figure(figsize=(10, 8))\n",
    "plt.bar(pandas_df['county_name'], pandas_df['average_interest_rate'])\n",
    "plt.xlabel('Name')\n",
    "plt.ylabel('Average Interest Rate')\n",
    "plt.yticks(np.arange(start=0.0, stop=max(pandas_df['average_interest_rate']) + 0.5, step=0.5))\n",
    "show = plt.show()\n",
    "show\n",
    "average_interest_rates"
   ]
  },
  {
   "cell_type": "code",
   "execution_count": 12,
   "id": "bf3eb17b-87c4-4c01-9e2e-687bdbdc36b5",
   "metadata": {
    "scrolled": true
   },
   "outputs": [
    {
     "name": "stdout",
     "output_type": "stream",
     "text": [
      "== Physical Plan ==\n",
      "AdaptiveSparkPlan (4)\n",
      "+- HashAggregate (3)\n",
      "   +- HashAggregate (2)\n",
      "      +- Scan parquet spark_catalog.default.loans (1)\n",
      "\n",
      "\n",
      "(1) Scan parquet spark_catalog.default.loans\n",
      "Output [2]: [county_code#991, interest_rate#1010]\n",
      "Batched: true\n",
      "Bucketed: true\n",
      "Location: InMemoryFileIndex [hdfs://nn:9000/user/hive/warehouse/loans]\n",
      "ReadSchema: struct<county_code:string,interest_rate:string>\n",
      "SelectedBucketsCount: 8 out of 8\n",
      "\n",
      "(2) HashAggregate\n",
      "Input [2]: [county_code#991, interest_rate#1010]\n",
      "Keys [1]: [county_code#991]\n",
      "Functions [1]: [partial_avg(cast(interest_rate#1010 as double))]\n",
      "Aggregate Attributes [2]: [sum#1121, count#1122L]\n",
      "Results [3]: [county_code#991, sum#1123, count#1124L]\n",
      "\n",
      "(3) HashAggregate\n",
      "Input [3]: [county_code#991, sum#1123, count#1124L]\n",
      "Keys [1]: [county_code#991]\n",
      "Functions [1]: [avg(cast(interest_rate#1010 as double))]\n",
      "Aggregate Attributes [1]: [avg(cast(interest_rate#1010 as double))#1117]\n",
      "Results [2]: [county_code#991, avg(cast(interest_rate#1010 as double))#1117 AS avg(interest_rate)#1118]\n",
      "\n",
      "(4) AdaptiveSparkPlan\n",
      "Output [2]: [county_code#991, avg(interest_rate)#1118]\n",
      "Arguments: isFinalPlan=false\n",
      "\n",
      "\n",
      "== Physical Plan ==\n",
      "AdaptiveSparkPlan (5)\n",
      "+- HashAggregate (4)\n",
      "   +- Exchange (3)\n",
      "      +- HashAggregate (2)\n",
      "         +- Scan parquet spark_catalog.default.loans (1)\n",
      "\n",
      "\n",
      "(1) Scan parquet spark_catalog.default.loans\n",
      "Output [2]: [lei#988, interest_rate#1010]\n",
      "Batched: true\n",
      "Bucketed: false (bucket column(s) not read)\n",
      "Location: InMemoryFileIndex [hdfs://nn:9000/user/hive/warehouse/loans]\n",
      "ReadSchema: struct<lei:string,interest_rate:string>\n",
      "\n",
      "(2) HashAggregate\n",
      "Input [2]: [lei#988, interest_rate#1010]\n",
      "Keys [1]: [lei#988]\n",
      "Functions [1]: [partial_avg(cast(interest_rate#1010 as double))]\n",
      "Aggregate Attributes [2]: [sum#1129, count#1130L]\n",
      "Results [3]: [lei#988, sum#1131, count#1132L]\n",
      "\n",
      "(3) Exchange\n",
      "Input [3]: [lei#988, sum#1131, count#1132L]\n",
      "Arguments: hashpartitioning(lei#988, 200), ENSURE_REQUIREMENTS, [plan_id=921]\n",
      "\n",
      "(4) HashAggregate\n",
      "Input [3]: [lei#988, sum#1131, count#1132L]\n",
      "Keys [1]: [lei#988]\n",
      "Functions [1]: [avg(cast(interest_rate#1010 as double))]\n",
      "Aggregate Attributes [1]: [avg(cast(interest_rate#1010 as double))#1125]\n",
      "Results [2]: [lei#988, avg(cast(interest_rate#1010 as double))#1125 AS avg(interest_rate)#1126]\n",
      "\n",
      "(5) AdaptiveSparkPlan\n",
      "Output [2]: [lei#988, avg(interest_rate)#1126]\n",
      "Arguments: isFinalPlan=false\n",
      "\n",
      "\n"
     ]
    }
   ],
   "source": [
    "#q8\n",
    "\n",
    "county_code_query = \"\"\"\n",
    "SELECT county_code, AVG(interest_rate)\n",
    "FROM loans\n",
    "GROUP BY county_code\n",
    "\"\"\"\n",
    "\n",
    "lei_query = \"\"\"\n",
    "SELECT lei, AVG(interest_rate)\n",
    "FROM loans\n",
    "GROUP BY lei\n",
    "\"\"\"\n",
    "\n",
    "explain1 = spark.sql(county_code_query).explain(\"formatted\")\n",
    "explain2 = spark.sql(lei_query).explain(\"formatted\")\n",
    "\n",
    "#answer for q8:\n",
    "#County Code:\n",
    "# For the county_code grouping, if the table is partitioned by county_code, \n",
    "#then network I/O may not be required because each partition can be processed independently to calculate the mean.\n",
    "\n",
    "#lei grouping: \n",
    "# For the lei grouping, network I/O is likely required because the data for a specific lei \n",
    "#is distributed across different nodes, and thus, partial results need to be shuffled across the network to \n",
    "#compute the final mean.\n"
   ]
  },
  {
   "cell_type": "code",
   "execution_count": 13,
   "id": "c447976a-d320-45eb-97b0-7697b6e9c000",
   "metadata": {},
   "outputs": [
    {
     "name": "stderr",
     "output_type": "stream",
     "text": [
      "                                                                                \r"
     ]
    },
    {
     "data": {
      "text/plain": [
       "242868"
      ]
     },
     "execution_count": 13,
     "metadata": {},
     "output_type": "execute_result"
    }
   ],
   "source": [
    "#q9\n",
    "from pyspark.sql.functions import col, when\n",
    "loans_df = spark.table(\"loans\")\n",
    "loans_df = spark.sql(\"\"\"\n",
    "SELECT loan_amount, income, interest_rate,(CASE \n",
    "           WHEN action_taken = 1 THEN 1 \n",
    "           ELSE 0 \n",
    "       END) as approval\n",
    "FROM loans\n",
    "\"\"\")\n",
    "\n",
    "df = loans_df.select(\n",
    "    col(\"loan_amount\").cast(\"double\"),\n",
    "    col(\"income\").cast(\"double\"),\n",
    "    col(\"interest_rate\").cast(\"double\"),\n",
    "    col(\"approval\").cast(\"double\")\n",
    ").fillna(0.0)\n",
    "\n",
    "train, test = df.randomSplit([0.8, 0.2], seed=41) \n",
    "train.cache()\n",
    "train_count = train.filter(col('approval') == 1).count()\n",
    "train_count"
   ]
  },
  {
   "cell_type": "code",
   "execution_count": 14,
   "id": "8597171a-5d61-4a29-856e-ed10f47b8a3b",
   "metadata": {},
   "outputs": [
    {
     "name": "stderr",
     "output_type": "stream",
     "text": [
      "                                                                                \r"
     ]
    },
    {
     "data": {
      "text/plain": [
       "0.8939881343291889"
      ]
     },
     "execution_count": 14,
     "metadata": {},
     "output_type": "execute_result"
    }
   ],
   "source": [
    "#q10\n",
    "from pyspark.ml.feature import VectorAssembler\n",
    "from pyspark.ml.classification import DecisionTreeClassifier\n",
    "from pyspark.ml.evaluation import MulticlassClassificationEvaluator\n",
    "\n",
    "assembler = VectorAssembler(inputCols=[\"loan_amount\", \"income\", \"interest_rate\"], outputCol=\"features\")\n",
    "train_assembled = assembler.transform(train)\n",
    "test_assembled = assembler.transform(test)\n",
    "dt = DecisionTreeClassifier(labelCol=\"approval\", featuresCol=\"features\", maxDepth=5)\n",
    "dt_model = dt.fit(train_assembled)\n",
    "predictions = dt_model.transform(test_assembled)\n",
    "\n",
    "correct_predictions = predictions.where(predictions['approval'] == predictions['prediction']).count()\n",
    "total_predictions = predictions.count()\n",
    "accuracy = correct_predictions / total_predictions\n",
    "\n",
    "accuracy"
   ]
  }
 ],
 "metadata": {
  "kernelspec": {
   "display_name": "Python 3 (ipykernel)",
   "language": "python",
   "name": "python3"
  },
  "language_info": {
   "codemirror_mode": {
    "name": "ipython",
    "version": 3
   },
   "file_extension": ".py",
   "mimetype": "text/x-python",
   "name": "python",
   "nbconvert_exporter": "python",
   "pygments_lexer": "ipython3",
   "version": "3.10.12"
  }
 },
 "nbformat": 4,
 "nbformat_minor": 5
}
